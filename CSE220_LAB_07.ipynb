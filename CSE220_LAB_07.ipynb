{
  "nbformat": 4,
  "nbformat_minor": 0,
  "metadata": {
    "colab": {
      "provenance": [],
      "authorship_tag": "ABX9TyMQ3JBQ4sUaEdJTwzQ1g+Ee",
      "include_colab_link": true
    },
    "kernelspec": {
      "name": "python3",
      "display_name": "Python 3"
    },
    "language_info": {
      "name": "python"
    }
  },
  "cells": [
    {
      "cell_type": "markdown",
      "metadata": {
        "id": "view-in-github",
        "colab_type": "text"
      },
      "source": [
        "<a href=\"https://colab.research.google.com/github/maliiha/cse220/blob/main/CSE220_LAB_07.ipynb\" target=\"_parent\"><img src=\"https://colab.research.google.com/assets/colab-badge.svg\" alt=\"Open In Colab\"/></a>"
      ]
    },
    {
      "cell_type": "markdown",
      "source": [
        "TASK:01"
      ],
      "metadata": {
        "id": "ro6EIEC6RnDu"
      }
    },
    {
      "cell_type": "code",
      "execution_count": null,
      "metadata": {
        "id": "KwW3L6rgk9_3",
        "colab": {
          "base_uri": "https://localhost:8080/"
        },
        "outputId": "9f76d14e-5f0c-420f-d853-a7a4bc03420c"
      },
      "outputs": [
        {
          "output_type": "stream",
          "name": "stdout",
          "text": [
            "True\n",
            "[-9, -2, 1, 5, 5, 10]\n"
          ]
        }
      ],
      "source": [
        "class KeyIndex:\n",
        "  def __init__(self,arr):\n",
        "    self.arr = arr\n",
        "    self.maximum=0\n",
        "    self.minimum=0\n",
        "    self.aux=[]\n",
        "    for k in range(len(arr)):\n",
        "      if(arr[k]<-1):\n",
        "        if(arr[k]<self.minimum):\n",
        "          self.minimum=arr[k]\n",
        "    if(self.minimum<0):\n",
        "      for m in range(len(arr)):\n",
        "        arr[m]+=abs(self.minimum)\n",
        "    for i in range(len(arr)):\n",
        "      if(arr[i]>self.maximum):\n",
        "        self.maximum=arr[i]\n",
        "    self.aux=[0]*(self.maximum+1)\n",
        "    for j in range(len(arr)):\n",
        "      if(arr[j]<=self.maximum):\n",
        "        self.aux[arr[j]]+=1\n",
        "  def search(self,key):\n",
        "    count=0\n",
        "    if(self.minimum<0):\n",
        "      for i in range(len(self.arr)):\n",
        "        if(self.arr[i]-abs(self.minimum)==key):\n",
        "          count+=1\n",
        "    else:\n",
        "      for i in range(len(self.arr)):\n",
        "        if(self.arr[i]==key):\n",
        "          count+=1\n",
        "    if(count>0):\n",
        "      return True\n",
        "    return False\n",
        "  def sort(self):\n",
        "    if(self.minimum<0):\n",
        "      for i in range(len(self.arr)):\n",
        "        self.arr[i]-=abs(self.minimum)\n",
        "    i=len(self.arr)-1\n",
        "    while i>=0:\n",
        "      for j in range(i):\n",
        "        if(self.arr[j]>self.arr[j+1]):\n",
        "          self.arr[j],self.arr[j+1]=self.arr[j+1],self.arr[j]\n",
        "      i-=1\n",
        "    print(self.arr)\n",
        "arr=[5,-9,-2,5,10,1]\n",
        "k=KeyIndex(arr)\n",
        "print(k.search(1))\n",
        "k.sort()"
      ]
    },
    {
      "cell_type": "markdown",
      "source": [
        "TASK:02"
      ],
      "metadata": {
        "id": "cqqUbEBORklx"
      }
    },
    {
      "cell_type": "code",
      "source": [
        "class Hashtable:\n",
        "  def __init__(self,string):\n",
        "    self.string=string\n",
        "    count=0\n",
        "    result=0\n",
        "    for i in range(len(self.string)):\n",
        "      for j in range(len(self.string[i])):\n",
        "        if(48<=ord(self.string[i][j])<=57):\n",
        "          result+=int(self.string[i][j])\n",
        "        elif(self.string[i][j] not in \"AEIOUaeiou\"):\n",
        "          count+=1\n",
        "    print(count)\n",
        "    print(result)\n",
        "h1=Hashtable([\"ST1E89B8A32\",\"drftgyhu45678\",\"khj67\",\"ASD45\",'KJ87',\"LOI98\",\"UI87\",\"as34s\",'lk89'])"
      ],
      "metadata": {
        "id": "FA9anh_JS8FD",
        "outputId": "088d6c33-00df-4523-a7f0-e12ae61af84f",
        "colab": {
          "base_uri": "https://localhost:8080/"
        }
      },
      "execution_count": null,
      "outputs": [
        {
          "output_type": "stream",
          "name": "stdout",
          "text": [
            "22\n",
            "154\n"
          ]
        }
      ]
    },
    {
      "cell_type": "code",
      "source": [
        "def hashh(a):\n",
        "    TABLE=[0]*9\n",
        "    for i in range(len(a)):\n",
        "        count=0\n",
        "        summ=0\n",
        "        for char in a[i]:\n",
        "            if char >=\"A\" and char<=\"Z\":\n",
        "                if char not in \"AEIOU\":\n",
        "                    count+=1\n",
        "            elif char>=\"0\" and char<=\"9\":\n",
        "                summ+=int(char)\n",
        "\n",
        "        #print('sum',summ)\n",
        "        #print('count',count)\n",
        "\n",
        "        \n",
        "\n",
        "        final=(count*24+summ)%9\n",
        "        #print('idx',final)\n",
        "        x=(final)%len(TABLE)\n",
        "\n",
        "        if TABLE[x]==0:\n",
        "            TABLE[x]=a[i]\n",
        "\n",
        "        elif TABLE[x]!=0:\n",
        "            while TABLE[x]!=0:\n",
        "                x+=1\n",
        "                if x==len(TABLE):\n",
        "                    x=0\n",
        "                \n",
        "            TABLE[x]=a[i]\n",
        "\n",
        "    print(TABLE)\n",
        "        \n",
        "        \n",
        "hashh(['ST1E89B8A32','ST1E89B8A33','ST1E89B8A34','ST1E89B8A30','ST1E89B8A36','ST1E89B8A27'])"
      ],
      "metadata": {
        "id": "upsabTveKI60",
        "outputId": "ffab09a8-59a7-4c3f-fc36-3f70bf98ac90",
        "colab": {
          "base_uri": "https://localhost:8080/"
        }
      },
      "execution_count": 1,
      "outputs": [
        {
          "output_type": "stream",
          "name": "stdout",
          "text": [
            "['ST1E89B8A27', 0, 'ST1E89B8A30', 0, 'ST1E89B8A32', 'ST1E89B8A33', 'ST1E89B8A34', 0, 'ST1E89B8A36']\n"
          ]
        }
      ]
    }
  ]
}