{
  "nbformat": 4,
  "nbformat_minor": 0,
  "metadata": {
    "colab": {
      "provenance": [],
      "authorship_tag": "ABX9TyP56lVPM1Kw67C/etXtjvGo",
      "include_colab_link": true
    },
    "kernelspec": {
      "name": "python3",
      "display_name": "Python 3"
    },
    "language_info": {
      "name": "python"
    }
  },
  "cells": [
    {
      "cell_type": "markdown",
      "metadata": {
        "id": "view-in-github",
        "colab_type": "text"
      },
      "source": [
        "<a href=\"https://colab.research.google.com/github/maliiha/cse220/blob/main/CSE220_LAB_07.ipynb\" target=\"_parent\"><img src=\"https://colab.research.google.com/assets/colab-badge.svg\" alt=\"Open In Colab\"/></a>"
      ]
    },
    {
      "cell_type": "code",
      "execution_count": 11,
      "metadata": {
        "id": "KwW3L6rgk9_3",
        "outputId": "7434232b-605a-48d7-ef29-d3976d5c58fe",
        "colab": {
          "base_uri": "https://localhost:8080/"
        }
      },
      "outputs": [
        {
          "output_type": "stream",
          "name": "stdout",
          "text": [
            "[7, 11, 0, 7, 12, 3]\n",
            "[1, 0, 0, 1, 0, 0, 0, 2, 0, 0, 0, 1, 1]\n"
          ]
        }
      ],
      "source": [
        "class KeyIndex:\n",
        "  def __init__(self,arr):\n",
        "    self.arr = arr\n",
        "    maximum=0\n",
        "    minimum=0\n",
        "    self.aux=[]\n",
        "    for k in range(len(arr)):\n",
        "      if(arr[k]<-1):\n",
        "        if(arr[k]<minimum):\n",
        "          minimum=arr[k]\n",
        "    if(minimum<0):\n",
        "      for m in range(len(arr)):\n",
        "        arr[m]+=abs(minimum)\n",
        "      print(self.arr)\n",
        "    for i in range(len(arr)):\n",
        "      if(arr[i]>maximum):\n",
        "        maximum=arr[i]\n",
        "    self.aux=[0]*(maximum+1)\n",
        "    for j in range(len(arr)):\n",
        "      if(arr[j]<=maximum):\n",
        "        self.aux[arr[j]]+=1\n",
        "    print(self.aux)\n",
        "arr=[5,9,-2,5,10,1]\n",
        "key=KeyIndex(arr)"
      ]
    }
  ]
}