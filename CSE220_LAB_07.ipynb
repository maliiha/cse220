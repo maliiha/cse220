{
  "nbformat": 4,
  "nbformat_minor": 0,
  "metadata": {
    "colab": {
      "provenance": [],
      "authorship_tag": "ABX9TyOfsT7W7vf4+jexj5l7mvT1",
      "include_colab_link": true
    },
    "kernelspec": {
      "name": "python3",
      "display_name": "Python 3"
    },
    "language_info": {
      "name": "python"
    }
  },
  "cells": [
    {
      "cell_type": "markdown",
      "metadata": {
        "id": "view-in-github",
        "colab_type": "text"
      },
      "source": [
        "<a href=\"https://colab.research.google.com/github/maliiha/cse220/blob/main/CSE220_LAB_07.ipynb\" target=\"_parent\"><img src=\"https://colab.research.google.com/assets/colab-badge.svg\" alt=\"Open In Colab\"/></a>"
      ]
    },
    {
      "cell_type": "markdown",
      "source": [
        "TASK:01"
      ],
      "metadata": {
        "id": "ro6EIEC6RnDu"
      }
    },
    {
      "cell_type": "code",
      "execution_count": 33,
      "metadata": {
        "id": "KwW3L6rgk9_3",
        "colab": {
          "base_uri": "https://localhost:8080/"
        },
        "outputId": "9f76d14e-5f0c-420f-d853-a7a4bc03420c"
      },
      "outputs": [
        {
          "output_type": "stream",
          "name": "stdout",
          "text": [
            "True\n",
            "[-9, -2, 1, 5, 5, 10]\n"
          ]
        }
      ],
      "source": [
        "class KeyIndex:\n",
        "  def __init__(self,arr):\n",
        "    self.arr = arr\n",
        "    self.maximum=0\n",
        "    self.minimum=0\n",
        "    self.aux=[]\n",
        "    for k in range(len(arr)):\n",
        "      if(arr[k]<-1):\n",
        "        if(arr[k]<self.minimum):\n",
        "          self.minimum=arr[k]\n",
        "    if(self.minimum<0):\n",
        "      for m in range(len(arr)):\n",
        "        arr[m]+=abs(self.minimum)\n",
        "    for i in range(len(arr)):\n",
        "      if(arr[i]>self.maximum):\n",
        "        self.maximum=arr[i]\n",
        "    self.aux=[0]*(self.maximum+1)\n",
        "    for j in range(len(arr)):\n",
        "      if(arr[j]<=self.maximum):\n",
        "        self.aux[arr[j]]+=1\n",
        "  def search(self,key):\n",
        "    count=0\n",
        "    if(self.minimum<0):\n",
        "      for i in range(len(self.arr)):\n",
        "        if(self.arr[i]-abs(self.minimum)==key):\n",
        "          count+=1\n",
        "    else:\n",
        "      for i in range(len(self.arr)):\n",
        "        if(self.arr[i]==key):\n",
        "          count+=1\n",
        "    if(count>0):\n",
        "      return True\n",
        "    return False\n",
        "  def sort(self):\n",
        "    if(self.minimum<0):\n",
        "      for i in range(len(self.arr)):\n",
        "        self.arr[i]-=abs(self.minimum)\n",
        "    i=len(self.arr)-1\n",
        "    while i>=0:\n",
        "      for j in range(i):\n",
        "        if(self.arr[j]>self.arr[j+1]):\n",
        "          self.arr[j],self.arr[j+1]=self.arr[j+1],self.arr[j]\n",
        "      i-=1\n",
        "    print(self.arr)\n",
        "arr=[5,-9,-2,5,10,1]\n",
        "k=KeyIndex(arr)\n",
        "print(k.search(1))\n",
        "k.sort()"
      ]
    },
    {
      "cell_type": "markdown",
      "source": [
        "TASK:02"
      ],
      "metadata": {
        "id": "cqqUbEBORklx"
      }
    },
    {
      "cell_type": "code",
      "source": [],
      "metadata": {
        "id": "FA9anh_JS8FD"
      },
      "execution_count": null,
      "outputs": []
    }
  ]
}