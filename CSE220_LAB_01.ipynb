{
  "nbformat": 4,
  "nbformat_minor": 0,
  "metadata": {
    "colab": {
      "provenance": [],
      "authorship_tag": "ABX9TyNaZFMEmmX1k2gw1h3EDAPa",
      "include_colab_link": true
    },
    "kernelspec": {
      "name": "python3",
      "display_name": "Python 3"
    },
    "language_info": {
      "name": "python"
    }
  },
  "cells": [
    {
      "cell_type": "markdown",
      "metadata": {
        "id": "view-in-github",
        "colab_type": "text"
      },
      "source": [
        "<a href=\"https://colab.research.google.com/github/maliiha/cse220/blob/main/CSE220_LAB_01.ipynb\" target=\"_parent\"><img src=\"https://colab.research.google.com/assets/colab-badge.svg\" alt=\"Open In Colab\"/></a>"
      ]
    },
    {
      "cell_type": "markdown",
      "source": [
        "Task:01"
      ],
      "metadata": {
        "id": "8z629I_02_N3"
      }
    },
    {
      "cell_type": "code",
      "source": [
        "def shiftLeft(source,k):\n",
        "  for i in range(0,k):\n",
        "    for i in range(1,len(source)):\n",
        "     source[i-1]=source[i] \n",
        "    source[len(source)-1]=0\n",
        "  print(source)\n",
        "source=[10,20,30,40,50,60]\n",
        "shiftLeft(source,3)"
      ],
      "metadata": {
        "colab": {
          "base_uri": "https://localhost:8080/"
        },
        "id": "9EjA9LaG2-Nj",
        "outputId": "c3918cef-bbd4-4972-96e1-b927d8680ce1"
      },
      "execution_count": 19,
      "outputs": [
        {
          "output_type": "stream",
          "name": "stdout",
          "text": [
            "[40, 50, 60, 0, 0, 0]\n"
          ]
        }
      ]
    },
    {
      "cell_type": "markdown",
      "source": [
        "Task:02"
      ],
      "metadata": {
        "id": "uKxrujddqzms"
      }
    },
    {
      "cell_type": "code",
      "source": [
        "def rotateLeft( source, k):\n",
        "  for i in range(0,k):\n",
        "    temp=source[0]\n",
        "    for i in range(1,len(source)):\n",
        "     source[i-1]=source[i] \n",
        "    source[len(source)-1]=temp\n",
        "  print(source)\n",
        "source=[10,20,30,40,50,60]\n",
        "rotateLeft(source,3)"
      ],
      "metadata": {
        "colab": {
          "base_uri": "https://localhost:8080/"
        },
        "id": "RAUClYeuq2UZ",
        "outputId": "f2117f2e-2ce3-4acc-c66e-1486e49e016b"
      },
      "execution_count": 20,
      "outputs": [
        {
          "output_type": "stream",
          "name": "stdout",
          "text": [
            "[40, 50, 60, 10, 20, 30]\n"
          ]
        }
      ]
    },
    {
      "cell_type": "markdown",
      "source": [
        "Task:03"
      ],
      "metadata": {
        "id": "mkgA0Ehx0H5i"
      }
    },
    {
      "cell_type": "code",
      "source": [
        "def shiftRight( source, k):\n",
        "  for i in range(0,k):\n",
        "    i=len(source)-2\n",
        "    while 0<=i<len(source):\n",
        "      source[i+1]=source[i]\n",
        "      i-=1\n",
        "    source[0]=0\n",
        "  print(source)  \n",
        "source=[10,20,30,40,50,60]\n",
        "shiftRight(source,3)"
      ],
      "metadata": {
        "id": "-RuB3kSd0Jzp",
        "outputId": "1144049f-e106-4f90-e94e-695cf866e9e9",
        "colab": {
          "base_uri": "https://localhost:8080/"
        }
      },
      "execution_count": 21,
      "outputs": [
        {
          "output_type": "stream",
          "name": "stdout",
          "text": [
            "[0, 0, 0, 10, 20, 30]\n"
          ]
        }
      ]
    },
    {
      "cell_type": "markdown",
      "source": [
        "Task:04"
      ],
      "metadata": {
        "id": "JQSxw84PaO90"
      }
    },
    {
      "cell_type": "code",
      "source": [
        "def rotateRight( source, k):\n",
        "  for i in range(0,k):\n",
        "    temp=source[len(source)-1]\n",
        "    i=len(source)-2\n",
        "    while 0<=i<len(source):\n",
        "      source[i+1]=source[i]\n",
        "      i-=1\n",
        "    source[0]=temp\n",
        "  print(source)\n",
        "source=[10,20,30,40,50,60]\n",
        "rotateRight(source,3)"
      ],
      "metadata": {
        "id": "xv581rXFaRa7",
        "outputId": "051aaf41-d2df-4042-f9fb-c5365769cfe7",
        "colab": {
          "base_uri": "https://localhost:8080/"
        }
      },
      "execution_count": 22,
      "outputs": [
        {
          "output_type": "stream",
          "name": "stdout",
          "text": [
            "[40, 50, 60, 10, 20, 30]\n"
          ]
        }
      ]
    },
    {
      "cell_type": "markdown",
      "source": [
        "Task:05"
      ],
      "metadata": {
        "id": "5teZfGxPbmyT"
      }
    },
    {
      "cell_type": "code",
      "source": [
        "def remove( source, size, idx):\n",
        "  if(idx>0 and idx<=size):\n",
        "    if(source[0]!=0):\n",
        "      i=idx+1\n",
        "      while i<=size:\n",
        "        source[i-1]=source[i]\n",
        "        i+=1\n",
        "      source[len(source)-1]=0\n",
        "    print(source)\n",
        "  else:\n",
        "    print(\"Index number is not valid.\")\n",
        "source=[10,20,30,40,50,0,0]\n",
        "remove(source,5,2)"
      ],
      "metadata": {
        "id": "3V8aUtT6brCj",
        "outputId": "25557359-dee8-48e1-d2f2-c5e294a93467",
        "colab": {
          "base_uri": "https://localhost:8080/"
        }
      },
      "execution_count": 23,
      "outputs": [
        {
          "output_type": "stream",
          "name": "stdout",
          "text": [
            "[10, 20, 40, 50, 0, 0, 0]\n"
          ]
        }
      ]
    },
    {
      "cell_type": "markdown",
      "source": [
        "Task:06"
      ],
      "metadata": {
        "id": "aL3cJzdcwwG1"
      }
    },
    {
      "cell_type": "code",
      "source": [
        "def removeAll( source, size, element):\n",
        "  i=size\n",
        "  while i>=0:\n",
        "    if(source[i]==element):\n",
        "      while i<=size:\n",
        "        source[i]=source[i+1]\n",
        "        i+=1\n",
        "    i-=1\n",
        "    source[len(source)-1]=0\n",
        "  print(source)\n",
        "source=[10,2,30,2,50,2,2,0,0]\n",
        "removeAll(source,7,2)"
      ],
      "metadata": {
        "id": "4DvXa_I4wxLy",
        "outputId": "5bcb4fc0-4dc3-45fc-ab7b-c57f3ba09e87",
        "colab": {
          "base_uri": "https://localhost:8080/"
        }
      },
      "execution_count": 54,
      "outputs": [
        {
          "output_type": "stream",
          "name": "stdout",
          "text": [
            "[10, 30, 50, 0, 0, 0, 0, 0, 0]\n"
          ]
        }
      ]
    },
    {
      "cell_type": "markdown",
      "source": [
        "Task:07"
      ],
      "metadata": {
        "id": "zC_CxM5b4pR8"
      }
    },
    {
      "cell_type": "code",
      "source": [
        "def split_array(source):\n",
        "  sum1=0\n",
        "  for i in range(0,len(source)-1):\n",
        "    sum1+=source[i]\n",
        "    sum2=0\n",
        "    for j in range(i+1,len(source)):\n",
        "      sum2+=source[j]\n",
        "    if(sum1==sum2):\n",
        "      result=\"true\"\n",
        "      break\n",
        "    else:\n",
        "      result=\"false\"\n",
        "  print(result)\n",
        "source=[2, 1, 1, 2, 1]\n",
        "split_array(source)"
      ],
      "metadata": {
        "id": "O_S1Dv924qMa",
        "outputId": "3e2471bf-9a5a-4a28-cdc8-cb32b80b4f2b",
        "colab": {
          "base_uri": "https://localhost:8080/"
        }
      },
      "execution_count": 84,
      "outputs": [
        {
          "output_type": "stream",
          "name": "stdout",
          "text": [
            "false\n"
          ]
        }
      ]
    },
    {
      "cell_type": "markdown",
      "source": [
        "Task:08"
      ],
      "metadata": {
        "id": "_13-FB6DGDpb"
      }
    },
    {
      "cell_type": "code",
      "source": [
        "def series(n):\n",
        "  arr=[0]*n*n\n",
        "  i=0\n",
        "  while i<n:\n",
        "    count=n*(n-i)\n",
        "    for j in range(1,n+1-i):\n",
        "      arr[count-1]=j\n",
        "      count-=1\n",
        "    i+=1\n",
        "  print(arr)\n",
        "n=int(input(\"Enter an integer value: \"))\n",
        "series(n)"
      ],
      "metadata": {
        "id": "CBPF-W-RGEwG",
        "outputId": "43cd43b4-6e0c-45be-8090-32d710e1016a",
        "colab": {
          "base_uri": "https://localhost:8080/"
        }
      },
      "execution_count": 100,
      "outputs": [
        {
          "output_type": "stream",
          "name": "stdout",
          "text": [
            "Enter an integer value: 3\n",
            "[0, 0, 1, 0, 2, 1, 3, 2, 1]\n"
          ]
        }
      ]
    },
    {
      "cell_type": "markdown",
      "source": [
        "Task:09"
      ],
      "metadata": {
        "id": "n9a-4P3PaBe7"
      }
    },
    {
      "cell_type": "code",
      "source": [
        "def bunch(source):\n",
        "  maximum=0\n",
        "  temp=1\n",
        "  i=0\n",
        "  while i<len(source):\n",
        "    if(source[i]==source[i-1]):\n",
        "      temp+=1\n",
        "    else:\n",
        "      temp=1\n",
        "    if(temp>maximum):\n",
        "      maximum=temp\n",
        "    i+=1\n",
        "  print(maximum)\n",
        "source=[1,1,2, 2, 1, 1,1,1]\n",
        "bunch(source)"
      ],
      "metadata": {
        "id": "OI45S8u2aCo4",
        "outputId": "4e1d9cf6-b4f0-4ecb-c9f3-d48143a521f1",
        "colab": {
          "base_uri": "https://localhost:8080/"
        }
      },
      "execution_count": 103,
      "outputs": [
        {
          "output_type": "stream",
          "name": "stdout",
          "text": [
            "4\n"
          ]
        }
      ]
    },
    {
      "cell_type": "markdown",
      "source": [
        "Task:10"
      ],
      "metadata": {
        "id": "ps3jD1LLbld3"
      }
    },
    {
      "cell_type": "code",
      "source": [
        "def repeat(source):\n",
        "  arr=[0]*(len(source)+1)\n",
        "  result=False\n",
        "  i=0\n",
        "  while i<len(source):\n",
        "    arr[source[i]]=arr[source[i]]+1\n",
        "    i+=1\n",
        "  j=1\n",
        "  while j<len(arr):\n",
        "    for count in range(j+1,len(arr)):\n",
        "      if(arr[j])==arr[count] and arr[j]>1:\n",
        "        result=True\n",
        "        break\n",
        "    j+=1\n",
        "  print(result)\n",
        "    \n",
        "source=[3,4,6,3,4,7,4,6,8,6,6]\n",
        "repeat(source)"
      ],
      "metadata": {
        "id": "yLKFQe94bnKS",
        "outputId": "21abbd8b-635b-4523-e6a8-b66eb9c61c7d",
        "colab": {
          "base_uri": "https://localhost:8080/"
        }
      },
      "execution_count": 110,
      "outputs": [
        {
          "output_type": "stream",
          "name": "stdout",
          "text": [
            "False\n"
          ]
        }
      ]
    }
  ]
}