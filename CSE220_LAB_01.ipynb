{
  "nbformat": 4,
  "nbformat_minor": 0,
  "metadata": {
    "colab": {
      "provenance": [],
      "authorship_tag": "ABX9TyNjGabKa0VI1cvYWHXyquDO",
      "include_colab_link": true
    },
    "kernelspec": {
      "name": "python3",
      "display_name": "Python 3"
    },
    "language_info": {
      "name": "python"
    }
  },
  "cells": [
    {
      "cell_type": "markdown",
      "metadata": {
        "id": "view-in-github",
        "colab_type": "text"
      },
      "source": [
        "<a href=\"https://colab.research.google.com/github/maliiha/cse220/blob/main/CSE220_LAB_01.ipynb\" target=\"_parent\"><img src=\"https://colab.research.google.com/assets/colab-badge.svg\" alt=\"Open In Colab\"/></a>"
      ]
    },
    {
      "cell_type": "markdown",
      "source": [
        " Shift Left k Cells   "
      ],
      "metadata": {
        "id": "TMwDmqitp_L2"
      }
    },
    {
      "cell_type": "code",
      "source": [
        "def shiftLeft(source,k):\n",
        "  for j in range(0,k):\n",
        "    i=1\n",
        "    while i<len(source):\n",
        "      source[i-1]=source[i]\n",
        "      i+=1\n",
        "    source[len(source)-1]=0\n",
        "  print(source)\n",
        "source=[10,20,30,40,50,60]\n",
        "shiftLeft(source,3)"
      ],
      "metadata": {
        "colab": {
          "base_uri": "https://localhost:8080/"
        },
        "id": "vUEhJ-3hxwMc",
        "outputId": "b5e74b7b-ca7d-4b73-d7e8-17e6a698f2eb"
      },
      "execution_count": null,
      "outputs": [
        {
          "output_type": "stream",
          "name": "stdout",
          "text": [
            "[40, 50, 60, 0, 0, 0]\n"
          ]
        }
      ]
    },
    {
      "cell_type": "markdown",
      "source": [
        "Shift Right k Cells   \n"
      ],
      "metadata": {
        "id": "YyStJGhy8lBF"
      }
    },
    {
      "cell_type": "code",
      "source": [
        "def shiftRight( source, k):\n",
        "  i=len(source)-1\n",
        "  while i>0:\n",
        "    source[i]=source[i-k]\n",
        "    i-=1\n",
        "  for x in range (k):\n",
        "    source[x]=0\n",
        "\n",
        "source=[10,20,30,40,50,60]\n",
        "shiftRight(source,4)\n",
        "print(source)"
      ],
      "metadata": {
        "colab": {
          "base_uri": "https://localhost:8080/"
        },
        "id": "L9zZ3tGJ8l8k",
        "outputId": "d7d91107-cc98-4bf5-8e3f-eb93c5ed0ad9"
      },
      "execution_count": null,
      "outputs": [
        {
          "output_type": "stream",
          "name": "stdout",
          "text": [
            "[0, 0, 0, 0, 10, 20]\n"
          ]
        }
      ]
    },
    {
      "cell_type": "markdown",
      "source": [
        "Rotate Right k cells"
      ],
      "metadata": {
        "id": "lmEnzCzh1ReW"
      }
    },
    {
      "cell_type": "code",
      "source": [
        "def rotateRight(source,k):\n",
        "  for j in range(0,k):\n",
        "    item=source[0]\n",
        "    i=1\n",
        "    while i<len(source):\n",
        "      source[i-1]=source[i]\n",
        "      i+=1\n",
        "    source[len(source)-1]=item\n",
        "  print(source)\n",
        "source=[10,20,30,40,50,60]\n",
        "rotateRight(source,3)"
      ],
      "metadata": {
        "colab": {
          "base_uri": "https://localhost:8080/"
        },
        "id": "7zLlJl4N1YLO",
        "outputId": "3f636e96-1054-44cd-81e3-f04990112411"
      },
      "execution_count": null,
      "outputs": [
        {
          "output_type": "stream",
          "name": "stdout",
          "text": [
            "[40, 50, 60, 10, 20, 30]\n"
          ]
        }
      ]
    },
    {
      "cell_type": "markdown",
      "source": [
        "Rotate Left k cells "
      ],
      "metadata": {
        "id": "8mdczSMw87Js"
      }
    },
    {
      "cell_type": "code",
      "source": [
        "def rotateLeft( source, k):\n",
        "  j=0\n",
        "  n=len(source)\n",
        "  for i in range(k,n):\n",
        "    val=source[j]\n",
        "    source[j]=source[i]\n",
        "    source[i]=val\n",
        "    j+=1 \n",
        "  return source\n",
        "source=[10,20,30,40,50,60]\n",
        "print(rotateLeft(source,2))"
      ],
      "metadata": {
        "colab": {
          "base_uri": "https://localhost:8080/"
        },
        "id": "s7pzACPf88Y7",
        "outputId": "74795c51-4ee1-4ba3-8688-2c348d2a5beb"
      },
      "execution_count": null,
      "outputs": [
        {
          "output_type": "stream",
          "name": "stdout",
          "text": [
            "[30, 40, 50, 60, 10, 20]\n"
          ]
        }
      ]
    },
    {
      "cell_type": "markdown",
      "source": [
        "Task:01"
      ],
      "metadata": {
        "id": "8z629I_02_N3"
      }
    },
    {
      "cell_type": "code",
      "source": [
        "def shiftLeft(source,k):\n",
        "  for i in range(0,k):\n",
        "    for i in range(1,len(source)):\n",
        "     source[i-1]=source[i] \n",
        "    source[len(source)-1]=0\n",
        "  print(source)\n",
        "source=[10,20,30,40,50,60]\n",
        "shiftLeft(source,3)"
      ],
      "metadata": {
        "colab": {
          "base_uri": "https://localhost:8080/"
        },
        "id": "9EjA9LaG2-Nj",
        "outputId": "f7a95c12-a7cc-47f5-ba21-5e5a089092c7"
      },
      "execution_count": 25,
      "outputs": [
        {
          "output_type": "stream",
          "name": "stdout",
          "text": [
            "[40, 50, 60, 0, 0, 0]\n"
          ]
        }
      ]
    },
    {
      "cell_type": "markdown",
      "source": [
        "Task:02"
      ],
      "metadata": {
        "id": "uKxrujddqzms"
      }
    },
    {
      "cell_type": "code",
      "source": [
        "def rotateLeft( source, k):\n",
        "  for i in range(0,k):\n",
        "    temp=source[0]\n",
        "    for i in range(1,len(source)):\n",
        "     source[i-1]=source[i] \n",
        "    source[len(source)-1]=temp\n",
        "  print(source)\n",
        "source=[10,20,30,40,50,60]\n",
        "rotateLeft(source,3)"
      ],
      "metadata": {
        "colab": {
          "base_uri": "https://localhost:8080/"
        },
        "id": "RAUClYeuq2UZ",
        "outputId": "57b7d8af-a13a-4015-d4fc-9bc0305fc329"
      },
      "execution_count": 28,
      "outputs": [
        {
          "output_type": "stream",
          "name": "stdout",
          "text": [
            "[40, 50, 60, 10, 20, 30]\n"
          ]
        }
      ]
    }
  ]
}