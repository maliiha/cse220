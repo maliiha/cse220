{
  "nbformat": 4,
  "nbformat_minor": 0,
  "metadata": {
    "colab": {
      "provenance": [],
      "authorship_tag": "ABX9TyNh3XgnQbf0TupXsNE/OgBi",
      "include_colab_link": true
    },
    "kernelspec": {
      "name": "python3",
      "display_name": "Python 3"
    },
    "language_info": {
      "name": "python"
    }
  },
  "cells": [
    {
      "cell_type": "markdown",
      "metadata": {
        "id": "view-in-github",
        "colab_type": "text"
      },
      "source": [
        "<a href=\"https://colab.research.google.com/github/maliiha/cse220/blob/main/CSE220_LAB_06.ipynb\" target=\"_parent\"><img src=\"https://colab.research.google.com/assets/colab-badge.svg\" alt=\"Open In Colab\"/></a>"
      ]
    },
    {
      "cell_type": "markdown",
      "source": [
        "# TASK:01"
      ],
      "metadata": {
        "id": "BRcTidXE3SZs"
      }
    },
    {
      "cell_type": "markdown",
      "source": [
        "(a)"
      ],
      "metadata": {
        "id": "QOkDH1163VtG"
      }
    },
    {
      "cell_type": "code",
      "source": [
        "def factorial(n):\n",
        "  if(n==2):\n",
        "    return n\n",
        "  else:\n",
        "    return n * factorial(n-1)\n",
        "n=int(input(\"Enter a number: \"))\n",
        "factorial(n)"
      ],
      "metadata": {
        "id": "kQVG4U-F3c0f",
        "outputId": "b2f83764-6518-4366-b0c4-e56884399f7a",
        "colab": {
          "base_uri": "https://localhost:8080/"
        }
      },
      "execution_count": 4,
      "outputs": [
        {
          "name": "stdout",
          "output_type": "stream",
          "text": [
            "Enter a number: 7\n"
          ]
        },
        {
          "output_type": "execute_result",
          "data": {
            "text/plain": [
              "5040"
            ]
          },
          "metadata": {},
          "execution_count": 4
        }
      ]
    },
    {
      "cell_type": "markdown",
      "source": [
        "(b)"
      ],
      "metadata": {
        "id": "7WYjeQZNrsA_"
      }
    },
    {
      "cell_type": "code",
      "source": [
        "# def fibonacci:\n",
        "#   if(n==)"
      ],
      "metadata": {
        "id": "PDzWoAcCryLE"
      },
      "execution_count": null,
      "outputs": []
    },
    {
      "cell_type": "code",
      "source": [
        "store=0\n",
        "for i in range(0,n+1):\n",
        "  if(i==1 or i==0):\n",
        "    store+=1\n",
        "  else:\n",
        "    "
      ],
      "metadata": {
        "id": "zPfWIJ1btJ83"
      },
      "execution_count": null,
      "outputs": []
    }
  ]
}