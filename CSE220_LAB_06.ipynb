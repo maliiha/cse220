{
  "nbformat": 4,
  "nbformat_minor": 0,
  "metadata": {
    "colab": {
      "provenance": [],
      "authorship_tag": "ABX9TyMTAdqCbL8BxXf8HleWvvU5",
      "include_colab_link": true
    },
    "kernelspec": {
      "name": "python3",
      "display_name": "Python 3"
    },
    "language_info": {
      "name": "python"
    }
  },
  "cells": [
    {
      "cell_type": "markdown",
      "metadata": {
        "id": "view-in-github",
        "colab_type": "text"
      },
      "source": [
        "<a href=\"https://colab.research.google.com/github/maliiha/cse220/blob/main/CSE220_LAB_06.ipynb\" target=\"_parent\"><img src=\"https://colab.research.google.com/assets/colab-badge.svg\" alt=\"Open In Colab\"/></a>"
      ]
    },
    {
      "cell_type": "markdown",
      "source": [
        "# TASK:01"
      ],
      "metadata": {
        "id": "BRcTidXE3SZs"
      }
    },
    {
      "cell_type": "markdown",
      "source": [
        "(a)"
      ],
      "metadata": {
        "id": "QOkDH1163VtG"
      }
    },
    {
      "cell_type": "code",
      "source": [
        "def factorial(n):\n",
        "  if(n==2):\n",
        "    return n\n",
        "  else:\n",
        "    return n * factorial(n-1)\n",
        "n=int(input(\"Enter a number: \"))\n",
        "factorial(n)"
      ],
      "metadata": {
        "id": "kQVG4U-F3c0f"
      },
      "execution_count": null,
      "outputs": []
    }
  ]
}