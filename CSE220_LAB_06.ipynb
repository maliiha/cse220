{
  "nbformat": 4,
  "nbformat_minor": 0,
  "metadata": {
    "colab": {
      "provenance": [],
      "authorship_tag": "ABX9TyO45HaC5flwB65MecfQD6/4",
      "include_colab_link": true
    },
    "kernelspec": {
      "name": "python3",
      "display_name": "Python 3"
    },
    "language_info": {
      "name": "python"
    }
  },
  "cells": [
    {
      "cell_type": "markdown",
      "metadata": {
        "id": "view-in-github",
        "colab_type": "text"
      },
      "source": [
        "<a href=\"https://colab.research.google.com/github/maliiha/cse220/blob/main/CSE220_LAB_06.ipynb\" target=\"_parent\"><img src=\"https://colab.research.google.com/assets/colab-badge.svg\" alt=\"Open In Colab\"/></a>"
      ]
    },
    {
      "cell_type": "markdown",
      "source": [
        "# TASK:01"
      ],
      "metadata": {
        "id": "BRcTidXE3SZs"
      }
    },
    {
      "cell_type": "markdown",
      "source": [
        "(a)"
      ],
      "metadata": {
        "id": "QOkDH1163VtG"
      }
    },
    {
      "cell_type": "code",
      "source": [
        "def factorial(n):\n",
        "  if(n==2):\n",
        "    return n\n",
        "  else:\n",
        "    return n * factorial(n-1)\n",
        "n=int(input(\"Enter a number: \"))\n",
        "factorial(n)"
      ],
      "metadata": {
        "id": "kQVG4U-F3c0f",
        "outputId": "b2f83764-6518-4366-b0c4-e56884399f7a",
        "colab": {
          "base_uri": "https://localhost:8080/"
        }
      },
      "execution_count": null,
      "outputs": [
        {
          "name": "stdout",
          "output_type": "stream",
          "text": [
            "Enter a number: 7\n"
          ]
        },
        {
          "output_type": "execute_result",
          "data": {
            "text/plain": [
              "5040"
            ]
          },
          "metadata": {},
          "execution_count": 4
        }
      ]
    },
    {
      "cell_type": "markdown",
      "source": [
        "(b)"
      ],
      "metadata": {
        "id": "7WYjeQZNrsA_"
      }
    },
    {
      "cell_type": "code",
      "source": [
        "def fibonacci(n):\n",
        "  if(n==0 or n==1):\n",
        "    return n\n",
        "  else:\n",
        "    return fibonacci(n-1)+fibonacci(n-2)\n",
        "n=int(input(\"Enter a number: \"))\n",
        "fibonacci(n)"
      ],
      "metadata": {
        "id": "PDzWoAcCryLE",
        "outputId": "0b9a7f34-c348-47ae-988d-3118e222a032",
        "colab": {
          "base_uri": "https://localhost:8080/"
        }
      },
      "execution_count": 3,
      "outputs": [
        {
          "name": "stdout",
          "output_type": "stream",
          "text": [
            "Enter a number: 8\n"
          ]
        },
        {
          "output_type": "execute_result",
          "data": {
            "text/plain": [
              "21"
            ]
          },
          "metadata": {},
          "execution_count": 3
        }
      ]
    },
    {
      "cell_type": "markdown",
      "source": [
        "(c)"
      ],
      "metadata": {
        "id": "8f_uPXEw2lEm"
      }
    },
    {
      "cell_type": "code",
      "source": [
        "def printarr(arr,i):\n",
        "  if(i==len(arr)-1):\n",
        "    return arr[i]\n",
        "  else:\n",
        "    print(arr[i],end=\", \")\n",
        "    return printarr(arr,i+1)\n",
        "arr=[1,2,3,4,5,6]\n",
        "printarr(arr,0)"
      ],
      "metadata": {
        "id": "xM7BYtsM2mpb",
        "outputId": "05362649-3f37-4281-eba4-041d7c4f0c64",
        "colab": {
          "base_uri": "https://localhost:8080/"
        }
      },
      "execution_count": 11,
      "outputs": [
        {
          "output_type": "stream",
          "name": "stdout",
          "text": [
            "1, 2, 3, 4, 5, "
          ]
        },
        {
          "output_type": "execute_result",
          "data": {
            "text/plain": [
              "6"
            ]
          },
          "metadata": {},
          "execution_count": 11
        }
      ]
    },
    {
      "cell_type": "markdown",
      "source": [
        "(d)"
      ],
      "metadata": {
        "id": "CYjsfrJQ610y"
      }
    },
    {
      "cell_type": "code",
      "source": [
        "def power(base,n):\n",
        "  if(n==1):\n",
        "    return base\n",
        "  else:\n",
        "    return base * power(base,n-1)\n",
        "base=int(input(\"Enter the base: \"))\n",
        "n=int(input(\"Enter the n: \"))\n",
        "power(base,n)"
      ],
      "metadata": {
        "id": "6gMlBw3S63ne",
        "outputId": "d7b0da13-ff9c-46fd-821c-e50a8986061d",
        "colab": {
          "base_uri": "https://localhost:8080/"
        }
      },
      "execution_count": 18,
      "outputs": [
        {
          "name": "stdout",
          "output_type": "stream",
          "text": [
            "Enter the base: 3\n",
            "Enter the n: 3\n"
          ]
        },
        {
          "output_type": "execute_result",
          "data": {
            "text/plain": [
              "27"
            ]
          },
          "metadata": {},
          "execution_count": 18
        }
      ]
    },
    {
      "cell_type": "markdown",
      "source": [
        "# TASK:02"
      ],
      "metadata": {
        "id": "xNJKytzL8eUK"
      }
    },
    {
      "cell_type": "markdown",
      "source": [
        "(a)"
      ],
      "metadata": {
        "id": "zVokud0h8fxY"
      }
    },
    {
      "cell_type": "code",
      "source": [
        "def dectobin(decimal):\n",
        "  if(decimal==0):\n",
        "    return 0\n",
        "  else:\n",
        "    return int(str(dectobin(decimal//2)) + str(decimal%2))\n",
        "decimal=int(input(\"Enter a number: \"))\n",
        "dectobin(decimal)"
      ],
      "metadata": {
        "id": "EsNkFsfE8jK8",
        "outputId": "69503f6f-92e1-47f8-bd7b-e9f4b3a94c44",
        "colab": {
          "base_uri": "https://localhost:8080/"
        }
      },
      "execution_count": 35,
      "outputs": [
        {
          "name": "stdout",
          "output_type": "stream",
          "text": [
            "Enter a number: 16\n"
          ]
        },
        {
          "output_type": "execute_result",
          "data": {
            "text/plain": [
              "10000"
            ]
          },
          "metadata": {},
          "execution_count": 35
        }
      ]
    },
    {
      "cell_type": "markdown",
      "source": [
        "(b)"
      ],
      "metadata": {
        "id": "jyNDqCOxBg_4"
      }
    },
    {
      "cell_type": "code",
      "source": [
        "class Node:\n",
        "  def __init__(self, value):\n",
        "    self.value=value\n",
        "    self.next=None\n",
        "class Linkedlist:\n",
        "  def __init__(self,list1):\n",
        "    self.head=Node(list1[0])\n",
        "    self.head.next=None\n",
        "    head=self.head\n",
        "    for i in range(1,len(list1)):\n",
        "      new=Node(list1[i])\n",
        "      new.next=None\n",
        "      head.next=new\n",
        "      head=head.next\n",
        "def add(list1):\n",
        "  if(list1==None):\n",
        "    return 0\n",
        "  else:\n",
        "    return list1.value + add(list1.next)\n",
        "list1=[1,2,3]\n",
        "l1=Linkedlist(list1)\n",
        "print(add(l1.head))"
      ],
      "metadata": {
        "id": "RhMN-dWuBiCq",
        "outputId": "686457c8-bf86-459c-d3f6-d404a2773b52",
        "colab": {
          "base_uri": "https://localhost:8080/"
        }
      },
      "execution_count": 42,
      "outputs": [
        {
          "output_type": "stream",
          "name": "stdout",
          "text": [
            "6\n"
          ]
        }
      ]
    },
    {
      "cell_type": "markdown",
      "source": [
        "(c)"
      ],
      "metadata": {
        "id": "LBc9Cz5dMxDV"
      }
    },
    {
      "cell_type": "code",
      "source": [
        "class Node:\n",
        "  def __init__(self, value):\n",
        "    self.value=value\n",
        "    self.next=None\n",
        "class Linkedlist:\n",
        "  def __init__(self,list1):\n",
        "    self.head=Node(list1[0])\n",
        "    self.head.next=None\n",
        "    head=self.head\n",
        "    for i in range(1,len(list1)):\n",
        "      new=Node(list1[i])\n",
        "      new.next=None\n",
        "      head.next=new\n",
        "      head=head.next\n",
        "def reverse(head):\n",
        "  if(head==None):\n",
        "    return 0\n",
        "  else:\n",
        "    reverse(head.next)\n",
        "    print(head.value)\n",
        "list1=[10,20,30,40]\n",
        "l1=Linkedlist(list1)\n",
        "reverse(l1.head)"
      ],
      "metadata": {
        "id": "AHHge9AWMzf3",
        "outputId": "634043a7-d29d-4c10-93cc-ba34ff85855e",
        "colab": {
          "base_uri": "https://localhost:8080/"
        }
      },
      "execution_count": 47,
      "outputs": [
        {
          "output_type": "stream",
          "name": "stdout",
          "text": [
            "40\n",
            "30\n",
            "20\n",
            "10\n"
          ]
        }
      ]
    },
    {
      "cell_type": "markdown",
      "source": [
        "# TASK:03"
      ],
      "metadata": {
        "id": "Al8kCt8TOJF5"
      }
    },
    {
      "cell_type": "code",
      "source": [
        "def hocBuilder(height):\n",
        "  if(height ==0):\n",
        "    return 0\n",
        "  if(height==1):\n",
        "    return 8\n",
        "  else:\n",
        "    return 5 + hocBuilder(height-1)\n",
        "height=int(input(\"Enter the height: \"))\n",
        "hocBuilder(height)"
      ],
      "metadata": {
        "id": "TLnvq4cvON6H",
        "outputId": "e4de2944-1cc7-4f76-9bfa-6f07721c3391",
        "colab": {
          "base_uri": "https://localhost:8080/"
        }
      },
      "execution_count": 54,
      "outputs": [
        {
          "name": "stdout",
          "output_type": "stream",
          "text": [
            "Enter the height: 2\n"
          ]
        },
        {
          "output_type": "execute_result",
          "data": {
            "text/plain": [
              "13"
            ]
          },
          "metadata": {},
          "execution_count": 54
        }
      ]
    },
    {
      "cell_type": "markdown",
      "source": [
        "# TASK:04"
      ],
      "metadata": {
        "id": "oZ1uew0JQ3x8"
      }
    },
    {
      "cell_type": "markdown",
      "source": [
        "(a)"
      ],
      "metadata": {
        "id": "bqTCdQ_jTz1i"
      }
    },
    {
      "cell_type": "code",
      "source": [
        "def triangle(n):\n",
        "  if(n==0):\n",
        "    return \" \"\n",
        "  else:\n",
        "    result= triangle(n-1) + str(n)\n",
        "    return result\n",
        "n=int(input(\"Enter the value of n: \"))\n",
        "triangle(n)"
      ],
      "metadata": {
        "id": "jjGAlwo2TTnJ",
        "outputId": "08f9b0e1-7079-4ec8-e5af-e151b3862b39",
        "colab": {
          "base_uri": "https://localhost:8080/"
        }
      },
      "execution_count": 58,
      "outputs": [
        {
          "output_type": "stream",
          "name": "stdout",
          "text": [
            "Enter the value of n: 5\n",
            "1\n",
            "12\n",
            "123\n",
            "1234\n",
            "12345\n"
          ]
        }
      ]
    },
    {
      "cell_type": "markdown",
      "source": [
        "(b)"
      ],
      "metadata": {
        "id": "azNcGuGXTyZN"
      }
    },
    {
      "cell_type": "code",
      "source": [
        "def reverse_tri(n,c=0):\n",
        "  if(n==0):\n",
        "    return \" \",c\n",
        "  else:\n",
        "    stair,c = reverse_tri(n-1,c+1)\n",
        "    stair+=str(n)\n",
        "    print(\" \" * (c-n)+stair)\n",
        "    return stair,c\n",
        "n=int(input(\"Enter n: \"))\n",
        "a1=reverse_tri(n)"
      ],
      "metadata": {
        "id": "TJyp5XoKUikS",
        "outputId": "97600a17-4354-495b-bb65-fb3b1ef405e2",
        "colab": {
          "base_uri": "https://localhost:8080/"
        }
      },
      "execution_count": 70,
      "outputs": [
        {
          "output_type": "stream",
          "name": "stdout",
          "text": [
            "Enter n: 5\n",
            "     1\n",
            "    12\n",
            "   123\n",
            "  1234\n",
            " 12345\n"
          ]
        }
      ]
    },
    {
      "cell_type": "markdown",
      "source": [
        "# TASK:05"
      ],
      "metadata": {
        "id": "TKikWmp8XUkq"
      }
    },
    {
      "cell_type": "code",
      "source": [
        "class FinalQ:\n",
        "  def print(self,array,idx):\n",
        "   if(idx<len(array)): \n",
        "     profit = self.calcProfit(array[idx]) \n",
        "     print(\"investment:\", str(array[idx])+ \"; Profit:\",float(profit))\n",
        "     self.print(array, idx+1)\n",
        "  def calcProfit(self,investment): \n",
        "    if investment<=25000:\n",
        "        return 0\n",
        "    if  investment <= 100000:\n",
        "        return 45+ self.calcProfit(investment-1000) \n",
        "    elif investment >100000:       \n",
        "        return 80+ self.calcProfit(investment-1000) \n",
        "array=[25000,100000,250000,350000] \n",
        "f = FinalQ() \n",
        "f.print(array,0)"
      ],
      "metadata": {
        "id": "5Nj3T35oXbMR",
        "outputId": "d2af980e-fa2d-433b-eef9-47ff1a8874b6",
        "colab": {
          "base_uri": "https://localhost:8080/"
        }
      },
      "execution_count": 81,
      "outputs": [
        {
          "output_type": "stream",
          "name": "stdout",
          "text": [
            "investment: 25000; Profit: 0.0\n",
            "investment: 100000; Profit: 3375.0\n",
            "investment: 250000; Profit: 15375.0\n",
            "investment: 350000; Profit: 23375.0\n"
          ]
        }
      ]
    }
  ]
}