{
  "nbformat": 4,
  "nbformat_minor": 0,
  "metadata": {
    "colab": {
      "provenance": [],
      "authorship_tag": "ABX9TyMHh/b8r3qGpyZSq9hM6sST",
      "include_colab_link": true
    },
    "kernelspec": {
      "name": "python3",
      "display_name": "Python 3"
    },
    "language_info": {
      "name": "python"
    }
  },
  "cells": [
    {
      "cell_type": "markdown",
      "metadata": {
        "id": "view-in-github",
        "colab_type": "text"
      },
      "source": [
        "<a href=\"https://colab.research.google.com/github/maliiha/cse220/blob/main/CSE220_LAB_5.ipynb\" target=\"_parent\"><img src=\"https://colab.research.google.com/assets/colab-badge.svg\" alt=\"Open In Colab\"/></a>"
      ]
    },
    {
      "cell_type": "markdown",
      "source": [
        "TASK:01"
      ],
      "metadata": {
        "id": "DUe6p5h4XjxX"
      }
    },
    {
      "cell_type": "code",
      "source": [
        "class Stack:\n",
        "  def __init__(self,string):\n",
        "    self.string=string\n",
        "    self.stack=[None]*len(self.string)\n",
        "    self.pointer=-1\n",
        "    self.size=0\n",
        "  def push(self,element):\n",
        "    if(self.size==len(self.stack)):\n",
        "      print(\"Stack Overflow.\")\n",
        "    else:\n",
        "      self.pointer+=1\n",
        "      self.stack[self.pointer]=element\n",
        "      self.size+=1\n",
        "  def peek(self):\n",
        "    if(self.size==0):\n",
        "      return f\"The stack is empty.\"\n",
        "    else:\n",
        "      return self.stack[self.pointer]\n",
        "  def pop(self):\n",
        "    if(self.size==0):\n",
        "      print(\"Stack Underflow.\")\n",
        "    else:\n",
        "      result=self.stack[self.pointer]\n",
        "      self.stack[self.pointer]=None\n",
        "      self.pointer-=1\n",
        "      self.size-=1\n",
        "      return result\n",
        "string=input(\"Enter the arithmetic expression: \")\n",
        "s1=Stack(string)\n",
        "check=True\n",
        "open=\"({[\"\n",
        "close=\")}]\"\n",
        "count=0\n",
        "store=[]\n",
        "store_size=-1\n",
        "for i in range(len(string)):\n",
        "  if(string[i]==\"(\" or string[i]==\"{\" or string[i]==\"[\"):\n",
        "    s1.push(string[i])\n",
        "    store+=[i+1]\n",
        "    store_size+=1\n",
        "  elif(string[i]==\")\"):\n",
        "    if(s1.peek()!=\"(\"):\n",
        "      check=False\n",
        "      count=i\n",
        "      break\n",
        "    else:                                         \n",
        "      s1.pop()\n",
        "      store_size-=1\n",
        "  elif(string[i]==\"}\"):\n",
        "    if(s1.peek()!=\"{\"):\n",
        "      check=False\n",
        "      count=i\n",
        "      break\n",
        "    else:\n",
        "      s1.pop()\n",
        "      store_size-=1\n",
        "  elif(string[i]==\"]\"):\n",
        "    if(s1.peek()!=\"[\"):\n",
        "      check=False\n",
        "      count=i\n",
        "      break\n",
        "    else:\n",
        "      s1.pop()\n",
        "      store_size-=1\n",
        "if(s1.size!=0):\n",
        "  check=False\n",
        "if(check==True):\n",
        "  print(\"This expression is correct.\")  \n",
        "else:\n",
        "  print(\"This expression is NOT correct.\")\n",
        "  if(store_size<1):\n",
        "    if(string[count] in open):\n",
        "      print(\"Error at character #\"+str(count+1)+\".'\"+str(string[count])+\"'- not closed.\")\n",
        "    elif(string[count] in close):\n",
        "      print(\"Error at character #\"+str(count+1)+\".'\"+str(string[count])+\"'- not opened.\")\n",
        "  else:\n",
        "    if(string[store[store_size]-1] in open):\n",
        "      print(\"Error at character #\"+str(store[store_size])+\".'\"+str(string[store[store_size]-1])+\"'- not closed.\")\n",
        "    elif(string[store[store_size]] in close):\n",
        "      print(\"Error at character #\"+str(store[store_size])+\".'\"+str(string[store[store_size]-1])+\"'- not opened.\")"
      ],
      "metadata": {
        "colab": {
          "base_uri": "https://localhost:8080/"
        },
        "id": "J4WK9GBgXlAX",
        "outputId": "147345b1-a110-4ac2-c0d7-483d687c6c94"
      },
      "execution_count": 27,
      "outputs": [
        {
          "output_type": "stream",
          "name": "stdout",
          "text": [
            "Enter the arithmetic expression: 1+2]*[3*3+{4–5(6(7/8/9)+10)–11+(12*8)]+14\n",
            "This expression is NOT correct.\n",
            "Error at character #4.']'- not opened.\n"
          ]
        }
      ]
    },
    {
      "cell_type": "markdown",
      "source": [
        "\n",
        "TASK:02"
      ],
      "metadata": {
        "id": "eB56elC0gBkT"
      }
    },
    {
      "cell_type": "code",
      "source": [
        "class Node:\n",
        "  def __init__(self,value):\n",
        "    self.value=value\n",
        "    self.next=None\n",
        "class Stack1:\n",
        "  def __init__(self,vale=None):\n",
        "    self.head=None \n",
        "  def push(self,value):\n",
        "    if(self.head==None):\n",
        "      self.head=Node(value)\n",
        "    else:\n",
        "      new_node=Node(value)\n",
        "      new_node.next=self.head\n",
        "      self.head=new_node\n",
        "  def peek(self):\n",
        "    if(self.head==None):\n",
        "      return f\"Stack is empty.\"\n",
        "    else:\n",
        "      return self.head.value\n",
        "  def pop(self):\n",
        "    if(self.head==None):\n",
        "      print(\"Stack Underflow.\")\n",
        "    else:\n",
        "      result=self.head.value\n",
        "      temp=self.head\n",
        "      self.head=self.head.next\n",
        "      temp.next=None\n",
        "      temp.value=None\n",
        "      return result\n",
        "string=input(\"Enter the arithmetic expression: \")\n",
        "s2=Stack1()\n",
        "check=True\n",
        "open=\"({[\"\n",
        "close=\")}]\"\n",
        "count=0\n",
        "store=[]\n",
        "store_size=-1\n",
        "for i in range(len(string)):\n",
        "  if(string[i]==\"(\" or string[i]==\"{\" or string[i]==\"[\"):\n",
        "    s2.push(string[i])\n",
        "    store+=[i+1]\n",
        "    store_size+=1\n",
        "  elif(string[i]==\")\"):\n",
        "    if(s2.peek()!=\"(\"):\n",
        "      check=False\n",
        "      count=i\n",
        "      break\n",
        "    else:                                         \n",
        "      s2.pop()\n",
        "      store_size-=1\n",
        "  elif(string[i]==\"}\"):\n",
        "    if(s2.peek()!=\"{\"):\n",
        "      check=False\n",
        "      count=i\n",
        "      break\n",
        "    else:\n",
        "      s2.pop()\n",
        "      store_size-=1\n",
        "  elif(string[i]==\"]\"):\n",
        "    if(s2.peek()!=\"[\"):\n",
        "      check=False\n",
        "      count=i\n",
        "      break\n",
        "    else:\n",
        "      s2.pop()\n",
        "      store_size-=1\n",
        "if(s2.head!=None):\n",
        "  check=False\n",
        "if(check==True):\n",
        "  print(\"This expression is correct.\")  \n",
        "else:\n",
        "  print(\"This expression is NOT correct.\")\n",
        "  if(store_size<1):\n",
        "    if(string[count] in open):\n",
        "      print(\"Error at character #\"+str(count+1)+\".'\"+str(string[count])+\"'- not closed.\")\n",
        "    elif(string[count] in close):\n",
        "      print(\"Error at character #\"+str(count+1)+\".'\"+str(string[count])+\"'- not opened.\")\n",
        "  else:\n",
        "    if(string[store[store_size]-1] in open):\n",
        "      print(\"Error at character #\"+str(store[store_size])+\".'\"+str(string[store[store_size]-1])+\"'- not closed.\")\n",
        "    elif(string[store[store_size]] in close):\n",
        "      print(\"Error at character #\"+str(store[store_size])+\".'\"+str(string[store[store_size]-1])+\"'- not opened.\")"
      ],
      "metadata": {
        "colab": {
          "base_uri": "https://localhost:8080/"
        },
        "outputId": "d6a86852-4d09-4c33-ed22-15f7bf8b62c3",
        "id": "Vb5jUbuXsRTg"
      },
      "execution_count": 28,
      "outputs": [
        {
          "output_type": "stream",
          "name": "stdout",
          "text": [
            "Enter the arithmetic expression: 1+2]*[3*3+{4–5(6(7/8/9)+10)–11+(12*8)]+14\n",
            "This expression is NOT correct.\n",
            "Error at character #4.']'- not opened.\n"
          ]
        }
      ]
    }
  ]
}