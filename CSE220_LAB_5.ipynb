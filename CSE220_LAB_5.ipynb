{
  "nbformat": 4,
  "nbformat_minor": 0,
  "metadata": {
    "colab": {
      "provenance": [],
      "authorship_tag": "ABX9TyPwVf4B/Sm3sq8k8GtMm6sy",
      "include_colab_link": true
    },
    "kernelspec": {
      "name": "python3",
      "display_name": "Python 3"
    },
    "language_info": {
      "name": "python"
    }
  },
  "cells": [
    {
      "cell_type": "markdown",
      "metadata": {
        "id": "view-in-github",
        "colab_type": "text"
      },
      "source": [
        "<a href=\"https://colab.research.google.com/github/maliiha/cse220/blob/main/CSE220_LAB_5.ipynb\" target=\"_parent\"><img src=\"https://colab.research.google.com/assets/colab-badge.svg\" alt=\"Open In Colab\"/></a>"
      ]
    },
    {
      "cell_type": "markdown",
      "source": [
        "TASK:01"
      ],
      "metadata": {
        "id": "DUe6p5h4XjxX"
      }
    },
    {
      "cell_type": "code",
      "source": [
        "class Stack:\n",
        "  def __init__(self,string):\n",
        "    self.string=string\n",
        "    self.stack=[None]*len(self.string)\n",
        "    self.pointer=-1\n",
        "    self.size=0\n",
        "  def push(self,element):\n",
        "    if(self.size==len(self.stack)):\n",
        "      print(\"Stack Overflow.\")\n",
        "    else:\n",
        "      self.pointer+=1\n",
        "      self.stack[self.pointer]=element\n",
        "      self.size+=1\n",
        "  def peek(self):\n",
        "    if(self.size==0):\n",
        "      return f\"The stack is empty.\"\n",
        "    else:\n",
        "      return self.stack[self.pointer]\n",
        "  def pop(self):\n",
        "    if(self.size==0):\n",
        "      print(\"Stack Underflow.\")\n",
        "    else:\n",
        "      result=self.stack[self.pointer]\n",
        "      self.stack[self.pointer]=None\n",
        "      self.pointer-=1\n",
        "      self.size-=1\n",
        "      return result\n",
        "string=input(\"Enter the arithmetic expression: \")\n",
        "s1=Stack(string)\n",
        "check=True\n",
        "open=\"({[\"\n",
        "close=\")}]\"\n",
        "store=[]\n",
        "store_size=-1\n",
        "for i in range(len(string)):\n",
        "  if(string[i]==\"(\" or string[i]==\"{\" or string[i]==\"[\"):\n",
        "    s1.push(string[i])\n",
        "    store+=[i+1]\n",
        "    store_size+=1\n",
        "  elif(string[i]==\")\"):\n",
        "    if(s1.peek()!=\"(\"):\n",
        "      check=False\n",
        "      break\n",
        "    else:                                                  #1+2*[3*3+{4–5(6(7/8/9)+10)–11+(12*8)]+14        1+2]*[3*3+{4–5(6(7/8/9)+10)–11+(12*8)]+14\n",
        "      s1.pop()\n",
        "      store_size-=1\n",
        "  elif(string[i]==\"}\"):\n",
        "    if(s1.peek()!=\"{\"):\n",
        "      check=False\n",
        "      break\n",
        "    else:\n",
        "      s1.pop()\n",
        "      store_size-=1\n",
        "  elif(string[i]==\"]\"):\n",
        "    if(s1.peek()!=\"[\"):\n",
        "      check=False\n",
        "      break\n",
        "    else:\n",
        "      s1.pop()\n",
        "      store_size-=1\n",
        "if(s1.size!=0):\n",
        "  check=False\n",
        "if(check==True):\n",
        "  print(\"This expression is correct.\")  \n",
        "else:\n",
        "  print(\"This expression is NOT correct.\")\n",
        "  if(string[store[store_size]-1] in open):\n",
        "    print(\"Error at character #\"+str(store[store_size])+\".'\"+str(string[store[store_size]-1])+\"'- not closed.\")\n",
        "  elif(string[store[store_size]] in close):\n",
        "    print(\"Error at character #\"+str(store[store_size])+\".'\"+str(string[store[store_size]-1])+\"'- not opened.\")"
      ],
      "metadata": {
        "colab": {
          "base_uri": "https://localhost:8080/"
        },
        "id": "J4WK9GBgXlAX",
        "outputId": "4e6a64f1-9a10-4d2f-b702-382769acfb93"
      },
      "execution_count": 102,
      "outputs": [
        {
          "output_type": "stream",
          "name": "stdout",
          "text": [
            "Enter the arithmetic expression: 1+2*[3*3+{4–5(6(7/8/9)+10)–11+(12*8)]+14\n",
            "This expression is NOT correct.\n",
            "Error at character #10.'{'- not closed.\n"
          ]
        }
      ]
    }
  ]
}