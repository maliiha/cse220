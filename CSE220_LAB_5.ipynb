{
  "nbformat": 4,
  "nbformat_minor": 0,
  "metadata": {
    "colab": {
      "provenance": [],
      "authorship_tag": "ABX9TyPO73LhV68dEwAQdaTtFAwG",
      "include_colab_link": true
    },
    "kernelspec": {
      "name": "python3",
      "display_name": "Python 3"
    },
    "language_info": {
      "name": "python"
    }
  },
  "cells": [
    {
      "cell_type": "markdown",
      "metadata": {
        "id": "view-in-github",
        "colab_type": "text"
      },
      "source": [
        "<a href=\"https://colab.research.google.com/github/maliiha/cse220/blob/main/CSE220_LAB_5.ipynb\" target=\"_parent\"><img src=\"https://colab.research.google.com/assets/colab-badge.svg\" alt=\"Open In Colab\"/></a>"
      ]
    },
    {
      "cell_type": "markdown",
      "source": [
        "TASK:01"
      ],
      "metadata": {
        "id": "DUe6p5h4XjxX"
      }
    },
    {
      "cell_type": "code",
      "source": [
        "class Stack:\n",
        "  def __init__(self,string):\n",
        "    self.string=string\n",
        "    self.stack=[0]*len(self.string)\n",
        "    self.pointer=-1\n",
        "    self.size=0\n",
        "  def push(self,element):\n",
        "    if(self.size==len(self.stack)):\n",
        "      print(\"Stack Overflow.\")\n",
        "    else:\n",
        "      self.pointer+=1\n",
        "      self.stack[self.pointer]=element\n",
        "      self.size+=1\n",
        "  def peek(self):\n",
        "    if(self.size==0):\n",
        "      print(\"The stack is empty.\")\n",
        "    else:\n",
        "      return self.stack[self.pointer]\n",
        "  def pop(self):\n",
        "    if(self.size==0):\n",
        "      print(\"Stack Underflow.\")\n",
        "    else:\n",
        "      result=self.stack[self.pointer]\n",
        "      self.stack[self.pointer]=0\n",
        "      self.pointer-=1\n",
        "      self.size-=1\n",
        "      return result\n",
        "string=input(\"Enter the arithmetic expression: \")\n",
        "s1=Stack(string)\n",
        "check=False\n",
        "for i in string:\n",
        "  if(i==\"(\" or i==\"{\" or i==\"[\"):\n",
        "    s1.push(i)\n",
        "  elif(i==\")\" or i==\"}\" or i==\"]\"):\n",
        "    if(i==\")\"):\n",
        "      s1.peek()\n",
        "      if(s1.peek!=\"(\"):\n",
        "        break\n",
        "      else:\n",
        "        check=True\n",
        "        s1.pop()\n",
        "    elif(i==\"}\"):\n",
        "      s1.peek()\n",
        "      if(s1.peek!=\"{\"):\n",
        "        break\n",
        "      else:\n",
        "        check=True\n",
        "        s1.pop()\n",
        "    else:\n",
        "      s1.peek()\n",
        "      if(s1.peek!=\"[\"):\n",
        "        break\n",
        "      else:\n",
        "        check=True\n",
        "        s1.pop()\n",
        "if(check==True):\n",
        "  print(\"This expression is correct.\")  \n",
        "else:\n",
        "  print(\"This expression is NOT correct.\")"
      ],
      "metadata": {
        "colab": {
          "base_uri": "https://localhost:8080/"
        },
        "id": "J4WK9GBgXlAX",
        "outputId": "728a8e25-a5c3-4896-8bd3-1dedb12f09eb"
      },
      "execution_count": 12,
      "outputs": [
        {
          "output_type": "stream",
          "name": "stdout",
          "text": [
            "Enter the arithmetic expression: 1+2]*[3*3+{4–5(6(7/8/9)+10)–11+(12*8)]+14\n",
            "The stack is empty.\n",
            "This expression is NOT correct.\n"
          ]
        }
      ]
    },
    {
      "cell_type": "code",
      "source": [
        "class stack:\n",
        "  def __init__(self):\n",
        "      self.array=[0]*10\n",
        "      self.top=-1\n",
        "      self.size=0\n",
        "      \n",
        "  def push(self,elem):\n",
        "      if self.size<len(self.array):\n",
        "          self.top+=1\n",
        "          self.array[self.top]=elem\n",
        "          self.size+=1\n",
        "      else:\n",
        "          print(\"stack overflow\")\n",
        "          \n",
        "  def peek(self):\n",
        "      if self.top>=0:\n",
        "          return self.array[self.top]\n",
        "      \n",
        "  \n",
        "  def pop(self):\n",
        "      if self.top<0:\n",
        "          print(\"stack underflow\")\n",
        "          return\n",
        "      else:\n",
        "          self.array[self.top]=0\n",
        "          self.top-=1\n",
        "          self.size-=1\n",
        "\n",
        "ent=input(\"give expression: \")\n",
        "flag=True\n",
        "s1=stack()\n",
        "for i in ent:\n",
        "  if i==\"(\" or i==\"{\" or i==\"[\":\n",
        "      s1.push(i)\n",
        "  if i==\")\" or i==\"}\" or i==\"]\":\n",
        "      if s1.top>=0:\n",
        "          check=s1.peek()\n",
        "          if i==\")\":\n",
        "              if check!=\"(\":\n",
        "                  flag=False\n",
        "                  break\n",
        "              else:\n",
        "                  s1.pop()\n",
        "          elif i==\"}\":\n",
        "              if check!=\"{\":\n",
        "                  flag=False\n",
        "                  break\n",
        "              else:\n",
        "                  s1.pop()\n",
        "          elif i==\"]\":\n",
        "              if check!=\"[\":\n",
        "                  flag=False\n",
        "                  break\n",
        "              else:\n",
        "                  s1.pop()\n",
        "      else:\n",
        "          flag=False\n",
        "          \n",
        "if s1.top>=0:\n",
        "    flag=False\n",
        "if flag:\n",
        "    print(\"This expression is correct\")\n",
        "else:\n",
        "    print(\"This expression is not correct\")"
      ],
      "metadata": {
        "id": "2SiXgfs5FYQ4",
        "outputId": "49bb94f3-d92a-48ee-bf45-8bbfa4c6a3d7",
        "colab": {
          "base_uri": "https://localhost:8080/"
        }
      },
      "execution_count": 3,
      "outputs": [
        {
          "output_type": "stream",
          "name": "stdout",
          "text": [
            "give expression: 1+2*(3/4)\n",
            "This expression is correct\n"
          ]
        }
      ]
    }
  ]
}