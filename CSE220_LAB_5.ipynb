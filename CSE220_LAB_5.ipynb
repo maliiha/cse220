{
  "nbformat": 4,
  "nbformat_minor": 0,
  "metadata": {
    "colab": {
      "provenance": [],
      "authorship_tag": "ABX9TyOiPBpGG1NS8A4eicOdGXog",
      "include_colab_link": true
    },
    "kernelspec": {
      "name": "python3",
      "display_name": "Python 3"
    },
    "language_info": {
      "name": "python"
    }
  },
  "cells": [
    {
      "cell_type": "markdown",
      "metadata": {
        "id": "view-in-github",
        "colab_type": "text"
      },
      "source": [
        "<a href=\"https://colab.research.google.com/github/maliiha/cse220/blob/main/CSE220_LAB_5.ipynb\" target=\"_parent\"><img src=\"https://colab.research.google.com/assets/colab-badge.svg\" alt=\"Open In Colab\"/></a>"
      ]
    },
    {
      "cell_type": "markdown",
      "source": [
        "TASK:01"
      ],
      "metadata": {
        "id": "DUe6p5h4XjxX"
      }
    },
    {
      "cell_type": "code",
      "source": [
        "class Stack:\n",
        "  def __init__(self,string):\n",
        "    self.string=string\n",
        "    self.stack=[None]*len(self.string)\n",
        "    self.pointer=-1\n",
        "    self.size=0\n",
        "  def push(self,element):\n",
        "    if(self.size==len(self.stack)):\n",
        "      print(\"Stack Overflow.\")\n",
        "    else:\n",
        "      self.pointer+=1\n",
        "      self.stack[self.pointer]=element\n",
        "      self.size+=1\n",
        "  def peek(self):\n",
        "    if(self.size==0):\n",
        "      return f\"The stack is empty.\"\n",
        "    else:\n",
        "      return self.stack[self.pointer]\n",
        "  def pop(self):\n",
        "    if(self.size==0):\n",
        "      print(\"Stack Underflow.\")\n",
        "    else:\n",
        "      result=self.stack[self.pointer]\n",
        "      self.stack[self.pointer]=None\n",
        "      self.pointer-=1\n",
        "      self.size-=1\n",
        "      return result\n",
        "string=input(\"Enter the arithmetic expression: \")\n",
        "s1=Stack(string)\n",
        "check=True\n",
        "count=1\n",
        "counter=0\n",
        "store=[]\n",
        "store_size=0\n",
        "# count2=0\n",
        "# count3=0\n",
        "# count4=0\n",
        "# count5=0\n",
        "# count6=0\n",
        "for i in range(len(string)):\n",
        "  if(string[i]==\"(\" or string[i]==\"{\" or string[i]==\"[\"):\n",
        "    s1.push(string[i])\n",
        "    # counter+=i\n",
        "    store+=[i+1]\n",
        "    store_size+=1\n",
        "  elif(string[i]==\")\"):\n",
        "    if(s1.peek()!=\"(\"):\n",
        "      check=False\n",
        "      count+=i\n",
        "      break\n",
        "    else:\n",
        "      s1.pop()\n",
        "      counter=store[store_size-1]\n",
        "      store_size-=1\n",
        "  elif(string[i]==\"}\"):\n",
        "    if(s1.peek()!=\"{\"):\n",
        "      check=False\n",
        "      count+=i\n",
        "      break\n",
        "    else:\n",
        "      s1.pop()\n",
        "      counter=store[store_size-1]\n",
        "      store_size-=1\n",
        "  elif(string[i]==\"]\"):\n",
        "    if(s1.peek()!=\"[\"):\n",
        "      check=False\n",
        "      count+=i\n",
        "      break\n",
        "    else:\n",
        "      s1.pop()\n",
        "      counter=store[store_size-1]\n",
        "      store_size-=1\n",
        "if(s1.size!=0):\n",
        "  check=False\n",
        "  # for j in range(len(s1.stack)):\n",
        "  #   if(string[j]==\"(\"):\n",
        "  #     counter+=j\n",
        "  #   elif(string[j]==\"{\"):\n",
        "  #     counter+=j\n",
        "  #   elif(string[j]==\"[\"):\n",
        "  #     counter+=j\n",
        "if(check==True):\n",
        "  print(\"This expression is correct.\")  \n",
        "else:\n",
        "  print(\"This expression is NOT correct.\")\n",
        "  print(count)\n",
        "  print(counter)\n",
        "  # if(count1>count2):\n",
        "  #   print(\"Error at character #_______ not closed.\" )\n",
        "  # elif(count1<count2):\n",
        "  #   print(\"Error at character #_______ not opened.\")\n",
        "  # elif(count3>count4):\n",
        "  #   print(\"Error at character #_______ not closed.\" )\n",
        "  # elif(count3<count4):\n",
        "  #   print(\"Error at character #_______ not opened.\")\n",
        "  # elif(count5>count6):\n",
        "  #   print(\"Error at character #_______ not closed.\" )\n",
        "  # elif(count5<count6):\n",
        "  #   print(\"Error at character #_______ not opened.\")"
      ],
      "metadata": {
        "colab": {
          "base_uri": "https://localhost:8080/"
        },
        "id": "J4WK9GBgXlAX",
        "outputId": "14eaf2c2-b87b-495c-fac5-c444a96706ec"
      },
      "execution_count": 15,
      "outputs": [
        {
          "output_type": "stream",
          "name": "stdout",
          "text": [
            "Enter the arithmetic expression: 1+2*[3*3+{4–5(6(7/8/9)+10)–11+(12*8)]+14\n",
            "[5]\n",
            "[5, 10]\n",
            "[5, 10, 14]\n",
            "[5, 10, 14, 16]\n",
            "[5, 10, 14, 16, 31]\n",
            "This expression is NOT correct.\n",
            "37\n",
            "14\n"
          ]
        }
      ]
    },
    {
      "cell_type": "code",
      "source": [
        "store=\"\"\n",
        "store+=\"5\"\n",
        "store+=\"10\"\n",
        "print(store)\n",
        "for i in range(len(store)):\n",
        "  print(int(store[i])+1)"
      ],
      "metadata": {
        "id": "emmTGVgrrc2X",
        "outputId": "8c422bed-5aa4-42b4-bd0c-f13dd4105427",
        "colab": {
          "base_uri": "https://localhost:8080/"
        }
      },
      "execution_count": 5,
      "outputs": [
        {
          "output_type": "stream",
          "name": "stdout",
          "text": [
            "510\n",
            "6\n",
            "2\n",
            "1\n"
          ]
        }
      ]
    }
  ]
}