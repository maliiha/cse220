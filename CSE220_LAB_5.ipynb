{
  "nbformat": 4,
  "nbformat_minor": 0,
  "metadata": {
    "colab": {
      "provenance": [],
      "authorship_tag": "ABX9TyO/IjulaBn7NhtrFt3+ospW",
      "include_colab_link": true
    },
    "kernelspec": {
      "name": "python3",
      "display_name": "Python 3"
    },
    "language_info": {
      "name": "python"
    }
  },
  "cells": [
    {
      "cell_type": "markdown",
      "metadata": {
        "id": "view-in-github",
        "colab_type": "text"
      },
      "source": [
        "<a href=\"https://colab.research.google.com/github/maliiha/cse220/blob/main/CSE220_LAB_5.ipynb\" target=\"_parent\"><img src=\"https://colab.research.google.com/assets/colab-badge.svg\" alt=\"Open In Colab\"/></a>"
      ]
    },
    {
      "cell_type": "markdown",
      "source": [
        "TASK:01"
      ],
      "metadata": {
        "id": "DUe6p5h4XjxX"
      }
    },
    {
      "cell_type": "code",
      "source": [
        "class Stack:\n",
        "  def __init__(self,string):\n",
        "    self.string=string\n",
        "    self.stack=[None]*len(self.string)\n",
        "    self.pointer=-1\n",
        "    self.size=0\n",
        "  def push(self,element):\n",
        "    if(self.size==len(self.stack)):\n",
        "      print(\"Stack Overflow.\")\n",
        "    else:\n",
        "      self.pointer+=1\n",
        "      self.stack[self.pointer]=element\n",
        "      self.size+=1\n",
        "  def peek(self):\n",
        "    if(self.size==0):\n",
        "      return f\"The stack is empty.\"\n",
        "    else:\n",
        "      return self.stack[self.pointer]\n",
        "  def pop(self):\n",
        "    if(self.size==0):\n",
        "      print(\"Stack Underflow.\")\n",
        "    else:\n",
        "      result=self.stack[self.pointer]\n",
        "      self.stack[self.pointer]=None\n",
        "      self.pointer-=1\n",
        "      self.size-=1\n",
        "      return result\n",
        "string=input(\"Enter the arithmetic expression: \")\n",
        "s1=Stack(string)\n",
        "check=True\n",
        "count=1\n",
        "store=[]\n",
        "for i in range(len(string)):\n",
        "  if(string[i]==\"(\" or string[i]==\"{\" or string[i]==\"[\"):\n",
        "    s1.push(string[i])\n",
        "    store+=[i+1]\n",
        "  elif(string[i]==\")\"):\n",
        "    if(s1.peek()!=\"(\"):\n",
        "      check=False\n",
        "      count+=i\n",
        "      break\n",
        "    else:\n",
        "      s1.pop()\n",
        "  elif(string[i]==\"}\"):\n",
        "    if(s1.peek()!=\"{\"):\n",
        "      check=False\n",
        "      count+=i\n",
        "      break\n",
        "    else:\n",
        "      s1.pop()\n",
        "  elif(string[i]==\"]\"):\n",
        "    if(s1.peek()!=\"[\"):\n",
        "      check=False\n",
        "      count+=i\n",
        "      break\n",
        "    else:\n",
        "      s1.pop()\n",
        "if(s1.size!=0):\n",
        "  check=False\n",
        "if(check==True):\n",
        "  print(\"This expression is correct.\")  \n",
        "else:\n",
        "  print(\"This expression is NOT correct.\")\n",
        "  for i in range(len(store)):\n",
        "    if(string[store[i]-1]==\"[\"):\n",
        "      if(\"]\" in string):\n",
        "        continue\n",
        "      else:\n",
        "        print(\"Error at character #\"+str(store[i])+\". '['- not closed.\")\n",
        "    elif(string[store[i]-1]==\"{\"):\n",
        "      if(\"}\" in string):\n",
        "        continue\n",
        "      else:\n",
        "        print(\"Error at character #\"+str(store[i])+\". '{'- not closed.\")\n",
        "    elif(string[store[i]-1]==\"(\"):\n",
        "      if(\")\" in string):\n",
        "        continue\n",
        "      else:\n",
        "        print(\"Error at character #\"+str(store[i])+\". '('- not closed.\")\n",
        "    break\n",
        "  if(count>1):\n",
        "    if(string[count-1]==\")\"):\n",
        "      print(\"Error at character #\"+str(count)+\". ')'- not opened.\")\n",
        "    elif(string[count-1]==\"}\"):\n",
        "      print(\"Error at character #\"+str(count)+\". '}'- not opened.\")\n",
        "    elif(string[count-1]==\"]\"):\n",
        "      print(\"Error at character #\"+str(count)+\". ']'- not opened.\")"
      ],
      "metadata": {
        "colab": {
          "base_uri": "https://localhost:8080/"
        },
        "id": "J4WK9GBgXlAX",
        "outputId": "8cebf549-4fea-480f-9a13-0d88f1267672"
      },
      "execution_count": 45,
      "outputs": [
        {
          "output_type": "stream",
          "name": "stdout",
          "text": [
            "Enter the arithmetic expression: 1+2]*[3*3+{4–5(6(7/8/9)+10)–11+(12*8)]+14\n",
            "This expression is NOT correct.\n",
            "Error at character #4. ']'- not opened.\n"
          ]
        }
      ]
    }
  ]
}