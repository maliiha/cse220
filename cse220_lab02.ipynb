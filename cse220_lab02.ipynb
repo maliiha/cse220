{
  "nbformat": 4,
  "nbformat_minor": 0,
  "metadata": {
    "colab": {
      "provenance": [],
      "authorship_tag": "ABX9TyNskl0hHxZBe3QksN5n+4OB",
      "include_colab_link": true
    },
    "kernelspec": {
      "name": "python3",
      "display_name": "Python 3"
    },
    "language_info": {
      "name": "python"
    }
  },
  "cells": [
    {
      "cell_type": "markdown",
      "metadata": {
        "id": "view-in-github",
        "colab_type": "text"
      },
      "source": [
        "<a href=\"https://colab.research.google.com/github/maliiha/cse220/blob/main/cse220_lab02.ipynb\" target=\"_parent\"><img src=\"https://colab.research.google.com/assets/colab-badge.svg\" alt=\"Open In Colab\"/></a>"
      ]
    },
    {
      "cell_type": "code",
      "execution_count": 1,
      "metadata": {
        "id": "UxERHVqn06hf",
        "outputId": "6a03151a-8f75-46c4-e5f2-51795e337ad5",
        "colab": {
          "base_uri": "https://localhost:8080/"
        }
      },
      "outputs": [
        {
          "output_type": "stream",
          "name": "stdout",
          "text": [
            "[40, 50, 60, 0, 0, 0]\n"
          ]
        }
      ],
      "source": [
        "def shiftLeft(source,k):\n",
        "  for j in range(0,k):\n",
        "    i=1\n",
        "    while i<len(source):\n",
        "      source[i-1]=source[i]\n",
        "      i+=1\n",
        "    source[len(source)-1]=0\n",
        "  print(source)\n",
        "source=[10,20,30,40,50,60]\n",
        "shiftLeft(source,3)"
      ]
    }
  ]
}